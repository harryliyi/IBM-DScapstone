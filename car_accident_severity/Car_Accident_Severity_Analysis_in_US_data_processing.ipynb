{
 "cells": [
  {
   "cell_type": "markdown",
   "metadata": {},
   "source": [
    "# Analysis on the Car Accident Severity in US"
   ]
  },
  {
   "cell_type": "markdown",
   "metadata": {},
   "source": [
    "This notebook was used to analyze the car accident severity in US. The accident data from February 2016 to June 2020 were collected in US and the severity was assessed. The analysis includes the following parts:\n",
    "\n",
    "* [Introduction](#Part_1)\n",
    "* [Data](#Part_2)\n",
    "* [Methodology](#Part_3)\n",
    "    + [Exploratory Data Analysis](#Part_3_1)\n",
    "    + [Severity Prediction](#Part_3_2)\n",
    "\n",
    "written by Harry Li"
   ]
  },
  {
   "cell_type": "markdown",
   "metadata": {},
   "source": [
    "## Introduction <a id='Part_1'></a>"
   ]
  },
  {
   "cell_type": "markdown",
   "metadata": {},
   "source": [
    "Traffic accidents have become a big threat to public safety and resulted in great amounts of ecomoic loss around the world. A global status report on traffic safety indicated that the number of road traffic death continued to increase steadily, reaching to 1.35 million in 2016 [[WHO, 2018]](#cite-world2018global). Therefore, one of the important task for safety analysts and political makers, in order to mitigate the severity of the accidental consequence, is to make a comprehensive assessment of historical traffic accidents and then to increase the predictability of accidents.\n",
    "\n",
    "Accident analysis and prediction has been discussed in many previous studies and covers a broad range of categories, including, for example, ***Environmental Stimuli Analysis***, ***Accident Frequency Prediction***, and ***Accident Risk Prediction*** [[Moosavi, et. al., 2019a]](#cite-moosavi2019accident). ***Environmental Stimuli Analysis*** assesses the environmental conditions (e.g. weather, and road conditions) that are correlated with the possibility or severity of traffic accidents. ***Accident Frequency Prediction*** is targeted on predicting the number of traffic accidents for a specific road-segment or geographical region. ***Accident Risk Prediction*** is similar to the previous one. However, instead of predicting the number of accidents, it is focusing on predict the possibility of road traffic accidents for real-tiem applications.\n",
    "\n",
    "The analysis in this work belongs to the first category as I tried to seek the potential environmental stimuli of road traffic accidents. I used several explory data analysis (EDA) tools to investigate heterogeneity in the environmental factors and assessed the impact of environmental stimuli on severity of the accidents in US using several different machine learning models. The results from my analysis may provide advice to political makers on whether new regulations are needed in specific roads or weather conditions to reduce the risk of traffic accidents. In addition, it may also give suggestions to car drivers to avoid certain raod segments or to be vigilant on certain environmental conditions."
   ]
  },
  {
   "cell_type": "markdown",
   "metadata": {},
   "source": [
    "## Data <a id='Part_2'></a>"
   ]
  },
  {
   "cell_type": "markdown",
   "metadata": {},
   "source": [
    "The data set employed in this study is a countrywide traffic accident dataset (US-Accidents), which covers 49 states of the United States [[Moosavi, et. al., 2019b]](#cite-moosavi2019countrywide). The data were collected continuously from February 2016 to March 2019 and contains about 3.5 million accident records in total. This data set contains various attributs including time, location, severity and description of accidents, weather conditions, points of interest annotation (e.g. whether there is a Stop sign in a nearby location). A summary table of all data attributes is shown in [Table 1](#Table_1). Details of the attributes and data acquisition strategy can be found in [Moosavi, et. al., 2019b](#cite-moosavi2019countrywide). And the data set is available on Kaggle.com (https://www.kaggle.com/sobhanmoosavi/us-accidents)."
   ]
  },
  {
   "cell_type": "markdown",
   "metadata": {},
   "source": [
    "### <center>Table 1: A Listing of attibutes in US-Accidents data set (https://smoosavi.org/datasets/us_accidents) <a id='Table_1'></a></center>\n",
    "\n",
    "|#|\tAttribute|\tDescription|\tNullable|\n",
    "| :-: | :-: | :- | :-: |\n",
    "|1|\tID|\tThis is a unique identifier of the accident record.|\tNo|\n",
    "|2|\tSource|\tIndicates source of the accident report (i.e. the API which reported the accident.).|\tNo|\n",
    "|3|\tTMC|\tA traffic accident may have a Traffic Message Channel (TMC) code which provides more detailed description of the event.|\tYes|\n",
    "|4|\tSeverity|\tShows the severity of the accident, a number between 1 and 4, where 1 indicates the least impact on traffic (i.e., short delay as a result of the accident) and 4 indicates a significant impact on traffic (i.e., long delay).|\tNo|\n",
    "|5|\tStart_Time|\tShows start time of the accident in local time zone.|\tNo|\n",
    "|6|\tEnd_Time|\tShows end time of the accident in local time zone. End time here refers to when the impact of accident on traffic flow was dismissed.|\tNo|\n",
    "|7|\tStart_Lat|\tShows latitude in GPS coordinate of the start point.|\tNo|\n",
    "|8|\tStart_Lng|\tShows longitude in GPS coordinate of the start point.|\tNo|\n",
    "|9|\tEnd_Lat|\tShows latitude in GPS coordinate of the end point.|\tYes|\n",
    "|10|\tEnd_Lng|\tShows longitude in GPS coordinate of the end point.|\tYes|\n",
    "|11|\tDistance(mi)|\tThe length of the road extent affected by the accident.|\tNo|\n",
    "|12|\tDescription|\tShows natural language description of the accident.|\tNo|\n",
    "|13|\tNumber|\tShows the street number in address field.|\tYes|\n",
    "|14|\tStreet|\tShows the street name in address field.|\tYes|\n",
    "|15|\tSide|\tShows the relative side of the street (Right/Left) in address field.|\tYes|\n",
    "|16|\tCity|\tShows the city in address field.|\tYes|\n",
    "|17|\tCounty|\tShows the county in address field.|\tYes|\n",
    "|18|\tState|\tShows the state in address field.|\tYes|\n",
    "|19|\tZipcode|\tShows the zipcode in address field.|\tYes|\n",
    "|20|\tCountry|\tShows the country in address field.|\tYes|\n",
    "|21|\tTimezone|\tShows timezone based on the location of the accident (eastern, central, etc.).|\tYes|\n",
    "|22|\tAirport_Code|\tDenotes an airport-based weather station which is the closest one to location of the accident.|\tYes|\n",
    "|23|\tWeather_Timestamp|\tShows the time-stamp of weather observation record (in local time).|\tYes|\n",
    "|24|\tTemperature(F)|\tShows the temperature (in Fahrenheit).|\tYes|\n",
    "|25|\tWind_Chill(F)|\tShows the wind chill (in Fahrenheit).|\tYes|\n",
    "|26|\tHumidity(%)|\tShows the humidity (in percentage).|\tYes|\n",
    "|27|\tPressure(in)|\tShows the air pressure (in inches).|\tYes|\n",
    "|28|\tVisibility(mi)|\tShows visibility (in miles).|\tYes|\n",
    "|29|\tWind_Direction|\tShows wind direction.|\tYes|\n",
    "|30|\tWind_Speed(mph)|\tShows wind speed (in miles per hour).|\tYes|\n",
    "|31|\tPrecipitation(in)|\tShows precipitation amount in inches, if there is any.|\tYes|\n",
    "|32|\tWeather_Condition|\tShows the weather condition (rain, snow, thunderstorm, fog, etc.)|\tYes|\n",
    "|33|\tAmenity|\tA POI annotation which indicates presence of amenity in a nearby location.|\tNo|\n",
    "|34|\tBump|\tA POI annotation which indicates presence of speed bump or hump in a nearby location.|\tNo|\n",
    "|35|\tCrossing|\tA POI annotation which indicates presence of crossing in a nearby location.|\tNo|\n",
    "|36|\tGive_Way|\tA POI annotation which indicates presence of give_way in a nearby location.|\tNo|\n",
    "|37|\tJunction|\tA POI annotation which indicates presence of junction in a nearby location.|\tNo|\n",
    "|38|\tNo_Exit|\tA POI annotation which indicates presence of no_exit in a nearby location.|\tNo|\n",
    "|39|\tRailway|\tA POI annotation which indicates presence of railway in a nearby location.|\tNo|\n",
    "|40|\tRoundabout|\tA POI annotation which indicates presence of roundabout in a nearby location.|\tNo|\n",
    "|41|\tStation|\tA POI annotation which indicates presence of station in a nearby location.|\tNo|\n",
    "|42|\tStop|\tA POI annotation which indicates presence of stop in a nearby location.|\tNo|\n",
    "|43|\tTraffic_Calming|\tA POI annotation which indicates presence of traffic_calming in a nearby location.|\tNo|\n",
    "|44|\tTraffic_Signal|\tA POI annotation which indicates presence of traffic_signal in a nearby location.|\tNo|\n",
    "|45|\tTurning_Loop|\tA POI annotation which indicates presence of turning_loop in a nearby location.|\tNo|\n",
    "|46|\tSunrise_Sunset|\tShows the period of day (i.e. day or night) based on sunrise/sunset.|\tYes|\n",
    "|47|\tCivil_Twilight|\tShows the period of day (i.e. day or night) based on civil twilight.|\tYes|\n",
    "|48|\tNautical_Twilight|\tShows the period of day (i.e. day or night) based on nautical twilight.|\tYes|\n",
    "|49|\tAstronomical_Twilight|\tShows the period of day (i.e. day or night) based on astronomical twilight.|\tYes|"
   ]
  },
  {
   "cell_type": "markdown",
   "metadata": {},
   "source": [
    "## Methodology <a id='Part_3'></a>"
   ]
  },
  {
   "cell_type": "markdown",
   "metadata": {},
   "source": [
    "### Exploratory Data Analysis <a id='Part_3_1'></a>"
   ]
  },
  {
   "cell_type": "markdown",
   "metadata": {},
   "source": [
    "Exploratory data analysis (EDA) was implemented on the US-Accidents data set in order to reveal the heterogeneity in the data attributes. The distribution in the time, location, weather conditions were analyzed to get a comprehensive understanding on the characteristics of the data set. The cross-corelation was also calculated for better investigating the relationship between the environmental stimuli and severity of accidents, as well as for reducing the dimension of features for regression since only one of the highly correlated attributes is needed as the input feature of regression models."
   ]
  },
  {
   "cell_type": "markdown",
   "metadata": {},
   "source": [
    "### Severity Analysis <a id='Part_3_2'></a>"
   ]
  },
  {
   "cell_type": "markdown",
   "metadata": {},
   "source": [
    "Multiple regression models, including multi-variate logistic model, Random Forest, LightGBM and XGBoost, are employed to predict severity of the accidents. The performance of each model was evaluated and compared based on <em>F1-Score</em>, Recall and Precision. I also fine-tuned the XGBoost model and analyzed the importance of features using the Recursive Feature Elimination method."
   ]
  },
  {
   "cell_type": "markdown",
   "metadata": {},
   "source": [
    "## Reference"
   ]
  },
  {
   "cell_type": "markdown",
   "metadata": {},
   "source": [
    "* Moosavi, S., Samavatian, M. H., Parthasarathy, S., & Ramnath, R. (2019a). A Countrywide Traffic Accident Dataset. arXiv preprint arXiv:1906.05409. <a id='cite-moosavi2019countrywide'></a>\n",
    "\n",
    "* Moosavi, S., Samavatian, M. H., Parthasarathy, S., Teodorescu, R., & Ramnath, R. (2019b, November). Accident Risk Prediction based on Heterogeneous Sparse Data: New Dataset and Insights. In Proceedings of the 27th ACM SIGSPATIAL International Conference on Advances in Geographic Information Systems (pp. 33-42). <a id='cite-moosavi2019accident'></a>\n",
    "\n",
    "* World Health Organization. (2018). Global status report on road safety 2018: Summary (No. WHO/NMH/NVI/18.20). World Health Organization. <a id='cite-world2018global'></a> "
   ]
  },
  {
   "cell_type": "code",
   "execution_count": null,
   "metadata": {},
   "outputs": [],
   "source": []
  }
 ],
 "metadata": {
  "kernelspec": {
   "display_name": "Python 3",
   "language": "python",
   "name": "python3"
  },
  "language_info": {
   "codemirror_mode": {
    "name": "ipython",
    "version": 3
   },
   "file_extension": ".py",
   "mimetype": "text/x-python",
   "name": "python",
   "nbconvert_exporter": "python",
   "pygments_lexer": "ipython3",
   "version": "3.7.8"
  }
 },
 "nbformat": 4,
 "nbformat_minor": 4
}
